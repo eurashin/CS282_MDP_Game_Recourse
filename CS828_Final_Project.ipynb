{
 "cells": [
  {
   "cell_type": "code",
   "execution_count": 7,
   "metadata": {},
   "outputs": [],
   "source": [
    "import numpy as np\n",
    "import gym\n",
    "import tensorflow as tf\n",
    "import matplotlib.pyplot as plt\n",
    "import pandas as pd\n",
    "import copy\n",
    "import seaborn as sns\n",
    "\n",
    "from RLEnvironment import TaxiQLearner, UserTaxiEnvironment\n",
    "from InverseReinforcementLearning import max_entropy\n",
    "from EvaluationTools import compare_Q_matrices, simulate_episodes, actionable_sparse_Q_learning, greedy_baseline, sparse_Q_learning\n",
    "\n",
    "# SEED EVERYTHING\n",
    "RANDOM_SEED = 123\n",
    "np.random.seed(RANDOM_SEED)"
   ]
  },
  {
   "cell_type": "markdown",
   "metadata": {},
   "source": [
    "## 0. Initializing the data"
   ]
  },
  {
   "cell_type": "code",
   "execution_count": 8,
   "metadata": {},
   "outputs": [
    {
     "name": "stdout",
     "output_type": "stream",
     "text": [
      "+---------+\n",
      "|\u001b[34;1mR\u001b[0m: | : :G|\n",
      "| : |\u001b[43m \u001b[0m: : |\n",
      "| : : : : |\n",
      "| | : | : |\n",
      "|\u001b[35mY\u001b[0m| : |B: |\n",
      "+---------+\n",
      "\n"
     ]
    },
    {
     "data": {
      "text/plain": [
       "[123]"
      ]
     },
     "execution_count": 8,
     "metadata": {},
     "output_type": "execute_result"
    }
   ],
   "source": [
    "# Initialize the RL Environment\n",
    "rl_env = gym.make(\"Taxi-v3\").env # Initializing the RL environment THIS SHOULD ONLY BE DONE ONCE (since the RL environment for the IRL and the recourse should be the same)\n",
    "rl_env.render() # Show how the RL environment looks\n",
    "rl_env.seed(RANDOM_SEED)\n",
    "rl_env.action_space.seed(RANDOM_SEED)"
   ]
  },
  {
   "cell_type": "code",
   "execution_count": 10,
   "metadata": {
    "scrolled": true
   },
   "outputs": [
    {
     "name": "stdout",
     "output_type": "stream",
     "text": [
      "Episode 0 latest length 648\n",
      "Episode 25 latest length 1334\n",
      "Episode 50 latest length 104\n",
      "Episode 75 latest length 78\n",
      "Episode 100 latest length 115\n",
      "Episode 125 latest length 28\n",
      "Episode 150 latest length 11\n",
      "Episode 175 latest length 16\n",
      "Episode 200 latest length 31\n",
      "Episode 225 latest length 253\n",
      "Episode 250 latest length 23\n",
      "Episode 275 latest length 577\n",
      "Episode 300 latest length 71\n",
      "Episode 325 latest length 142\n",
      "Episode 350 latest length 18\n",
      "Episode 375 latest length 16\n",
      "Episode 400 latest length 58\n",
      "Episode 425 latest length 12\n",
      "Episode 450 latest length 23\n",
      "Episode 475 latest length 22\n",
      "Episode 500 latest length 10\n",
      "Episode 525 latest length 40\n",
      "Episode 550 latest length 35\n",
      "Episode 575 latest length 17\n",
      "Episode 600 latest length 19\n",
      "Episode 625 latest length 301\n",
      "Episode 650 latest length 20\n",
      "Episode 675 latest length 12\n",
      "Episode 700 latest length 14\n",
      "Episode 725 latest length 20\n",
      "Episode 750 latest length 18\n",
      "Episode 775 latest length 261\n",
      "Episode 800 latest length 13\n",
      "Episode 825 latest length 16\n",
      "Episode 850 latest length 88\n",
      "Episode 875 latest length 160\n",
      "Episode 900 latest length 43\n",
      "Episode 925 latest length 30\n",
      "Episode 950 latest length 21\n",
      "Episode 975 latest length 23\n"
     ]
    }
   ],
   "source": [
    "# Initialize the User's Policy\n",
    "user_agent = TaxiQLearner(rl_env)\n",
    "user_agent.epsilon = 0.1 \n",
    "train_data, train_rewards, train_lengths = user_agent.train(1000) \n",
    "\n",
    "# Needs to be suboptimal, so randomly change the Q\n",
    "random_states = np.random.choice(range(500), 50, replace = False)\n",
    "user_agent.Q[random_states, :] = np.zeros((random_states.shape[0], 6))\n",
    "random_action = np.random.choice(range(0, 6), random_states.shape[0], replace = True)\n",
    "for i, ind in enumerate(random_action): \n",
    "    user_agent.Q[random_states[i], ind] = 1"
   ]
  },
  {
   "cell_type": "code",
   "execution_count": 21,
   "metadata": {
    "scrolled": true
   },
   "outputs": [
    {
     "name": "stdout",
     "output_type": "stream",
     "text": [
      "0\n",
      "100\n",
      "200\n",
      "300\n",
      "400\n"
     ]
    }
   ],
   "source": [
    "# Generate trajectory data\n",
    "user_data = []\n",
    "for episode in range(500): # This is the number of trajectories you want\n",
    "    if episode % 100 == 0: \n",
    "        print(episode)\n",
    "    D, r = user_agent.run_episode(train = False)\n",
    "    user_data.append(D)\n",
    "        \n",
    "user_trajectories = []\n",
    "for data in user_data: \n",
    "    df = pd.DataFrame(data, columns = [\n",
    "      'prev_taxi_row', \n",
    "      'prev_taxi_column',\n",
    "      'prev_passenger_loc',\n",
    "      'prev_destination',\n",
    "      'prev_state',\n",
    "      'action',\n",
    "      'reward', # this is the true environment rewards\n",
    "      'new_taxi_row', \n",
    "      'new_taxi_column',\n",
    "      'new_passenger_loc',\n",
    "      'new_destination',\n",
    "      'new_state'])\n",
    "    user_trajectories.append(df)\n",
    "    \n",
    "# The ground truth Q\n",
    "user_ground_truth_Q = np.copy(user_agent.Q)"
   ]
  },
  {
   "cell_type": "markdown",
   "metadata": {},
   "source": [
    "## 1. Inferring the user's policy\n",
    "\n"
   ]
  },
  {
   "cell_type": "code",
   "execution_count": 22,
   "metadata": {
    "scrolled": true
   },
   "outputs": [
    {
     "name": "stdout",
     "output_type": "stream",
     "text": [
      "Iteration 0\n",
      "[0.3  0.1  0.05 0.05 0.03 0.   0.03 0.01 0.   0.07]\n",
      "Backward pass...\n",
      "Forward pass...\n",
      "100/6660\n",
      "200/6660\n",
      "300/6660\n",
      "400/6660\n",
      "500/6660\n",
      "600/6660\n",
      "700/6660\n",
      "800/6660\n",
      "900/6660\n",
      "1000/6660\n",
      "1100/6660\n",
      "1200/6660\n",
      "1300/6660\n",
      "1400/6660\n",
      "1500/6660\n",
      "1600/6660\n",
      "1700/6660\n",
      "1800/6660\n",
      "1900/6660\n",
      "2000/6660\n",
      "2100/6660\n"
     ]
    },
    {
     "ename": "KeyboardInterrupt",
     "evalue": "",
     "output_type": "error",
     "traceback": [
      "\u001b[0;31m---------------------------------------------------------------------------\u001b[0m",
      "\u001b[0;31mKeyboardInterrupt\u001b[0m                         Traceback (most recent call last)",
      "\u001b[0;32m<ipython-input-22-3fd64e860acd>\u001b[0m in \u001b[0;36m<module>\u001b[0;34m\u001b[0m\n\u001b[1;32m      5\u001b[0m \u001b[0;34m\u001b[0m\u001b[0m\n\u001b[1;32m      6\u001b[0m \u001b[0;31m# Perform IRL\u001b[0m\u001b[0;34m\u001b[0m\u001b[0;34m\u001b[0m\u001b[0;34m\u001b[0m\u001b[0m\n\u001b[0;32m----> 7\u001b[0;31m \u001b[0muser_reward\u001b[0m\u001b[0;34m,\u001b[0m \u001b[0mgrads\u001b[0m \u001b[0;34m=\u001b[0m \u001b[0mme\u001b[0m\u001b[0;34m.\u001b[0m\u001b[0mmax_entropy_irl\u001b[0m\u001b[0;34m(\u001b[0m\u001b[0mfeature_map\u001b[0m\u001b[0;34m)\u001b[0m\u001b[0;34m\u001b[0m\u001b[0;34m\u001b[0m\u001b[0m\n\u001b[0m",
      "\u001b[0;32m~/fall2020/CS282_MDP_Game_Recourse/InverseReinforcementLearning.py\u001b[0m in \u001b[0;36mmax_entropy_irl\u001b[0;34m(self, feature_map)\u001b[0m\n\u001b[1;32m    208\u001b[0m       \u001b[0;32melse\u001b[0m\u001b[0;34m:\u001b[0m\u001b[0;34m\u001b[0m\u001b[0;34m\u001b[0m\u001b[0m\n\u001b[1;32m    209\u001b[0m         \u001b[0;31m# compute gradient\u001b[0m\u001b[0;34m\u001b[0m\u001b[0;34m\u001b[0m\u001b[0;34m\u001b[0m\u001b[0m\n\u001b[0;32m--> 210\u001b[0;31m         \u001b[0mstate_visitation_frequency\u001b[0m \u001b[0;34m=\u001b[0m \u001b[0mself\u001b[0m\u001b[0;34m.\u001b[0m\u001b[0mexpected_state_visitation_frequency\u001b[0m\u001b[0;34m(\u001b[0m\u001b[0muser_reward\u001b[0m\u001b[0;34m,\u001b[0m \u001b[0mbatch_trajectories\u001b[0m\u001b[0;34m)\u001b[0m \u001b[0;31m# part 2 of gradient\u001b[0m\u001b[0;34m\u001b[0m\u001b[0;34m\u001b[0m\u001b[0m\n\u001b[0m\u001b[1;32m    211\u001b[0m         \u001b[0;31m#state_visitation_frequency = self.expected_state_visitation_frequency_deterministic(reward_weight)\u001b[0m\u001b[0;34m\u001b[0m\u001b[0;34m\u001b[0m\u001b[0;34m\u001b[0m\u001b[0m\n\u001b[1;32m    212\u001b[0m \u001b[0;34m\u001b[0m\u001b[0m\n",
      "\u001b[0;32m~/fall2020/CS282_MDP_Game_Recourse/InverseReinforcementLearning.py\u001b[0m in \u001b[0;36mexpected_state_visitation_frequency\u001b[0;34m(self, user_reward, batch_trajectories)\u001b[0m\n\u001b[1;32m    156\u001b[0m         \u001b[0;31m# Get all states that could lead to current\u001b[0m\u001b[0;34m\u001b[0m\u001b[0;34m\u001b[0m\u001b[0;34m\u001b[0m\u001b[0m\n\u001b[1;32m    157\u001b[0m         \u001b[0mtransition_to\u001b[0m \u001b[0;34m=\u001b[0m \u001b[0mself\u001b[0m\u001b[0;34m.\u001b[0m\u001b[0mP\u001b[0m\u001b[0;34m[\u001b[0m\u001b[0;34m:\u001b[0m\u001b[0;34m,\u001b[0m \u001b[0;34m:\u001b[0m\u001b[0;34m,\u001b[0m \u001b[0ms_to\u001b[0m\u001b[0;34m]\u001b[0m\u001b[0;34m\u001b[0m\u001b[0;34m\u001b[0m\u001b[0m\n\u001b[0;32m--> 158\u001b[0;31m         \u001b[0mstate_action_froms\u001b[0m \u001b[0;34m=\u001b[0m \u001b[0mnp\u001b[0m\u001b[0;34m.\u001b[0m\u001b[0mwhere\u001b[0m\u001b[0;34m(\u001b[0m\u001b[0mtransition_to\u001b[0m \u001b[0;34m==\u001b[0m \u001b[0;36m1\u001b[0m\u001b[0;34m)\u001b[0m \u001b[0;31m# states, actions that lead to s_to\u001b[0m\u001b[0;34m\u001b[0m\u001b[0;34m\u001b[0m\u001b[0m\n\u001b[0m\u001b[1;32m    159\u001b[0m         \u001b[0ms_from_values\u001b[0m \u001b[0;34m=\u001b[0m \u001b[0;36m0\u001b[0m\u001b[0;34m\u001b[0m\u001b[0;34m\u001b[0m\u001b[0m\n\u001b[1;32m    160\u001b[0m         \u001b[0;32mfor\u001b[0m \u001b[0mi\u001b[0m \u001b[0;32min\u001b[0m \u001b[0mrange\u001b[0m\u001b[0;34m(\u001b[0m\u001b[0mstate_action_froms\u001b[0m\u001b[0;34m[\u001b[0m\u001b[0;36m0\u001b[0m\u001b[0;34m]\u001b[0m\u001b[0;34m.\u001b[0m\u001b[0mshape\u001b[0m\u001b[0;34m[\u001b[0m\u001b[0;36m0\u001b[0m\u001b[0;34m]\u001b[0m\u001b[0;34m)\u001b[0m\u001b[0;34m:\u001b[0m\u001b[0;34m\u001b[0m\u001b[0;34m\u001b[0m\u001b[0m\n",
      "\u001b[0;31mKeyboardInterrupt\u001b[0m: "
     ]
    }
   ],
   "source": [
    "me = max_entropy(trajectories = user_trajectories, epochs = 10, learning_rate = 0.001, epsilon = 0., environment = rl_env, minibatch_size = 100)\n",
    "\n",
    "# create feature map\n",
    "feature_map = np.eye(500) # One hot encoding of the state vector\n",
    "\n",
    "# Perform IRL\n",
    "user_reward, grads = me.max_entropy_irl(feature_map)"
   ]
  },
  {
   "cell_type": "markdown",
   "metadata": {},
   "source": [
    "### Do we learn a decent approximation of the user's behavior policy? "
   ]
  },
  {
   "cell_type": "code",
   "execution_count": 15,
   "metadata": {},
   "outputs": [
    {
     "name": "stdout",
     "output_type": "stream",
     "text": [
      "Trial 0\n"
     ]
    },
    {
     "ename": "NameError",
     "evalue": "name 'user_reward' is not defined",
     "output_type": "error",
     "traceback": [
      "\u001b[0;31m---------------------------------------------------------------------------\u001b[0m",
      "\u001b[0;31mNameError\u001b[0m                                 Traceback (most recent call last)",
      "\u001b[0;32m<ipython-input-15-e20621c8ef5e>\u001b[0m in \u001b[0;36m<module>\u001b[0;34m\u001b[0m\n\u001b[1;32m      5\u001b[0m \u001b[0;32mfor\u001b[0m \u001b[0mj\u001b[0m \u001b[0;32min\u001b[0m \u001b[0mrange\u001b[0m\u001b[0;34m(\u001b[0m\u001b[0mnum_trials\u001b[0m\u001b[0;34m)\u001b[0m\u001b[0;34m:\u001b[0m\u001b[0;34m\u001b[0m\u001b[0;34m\u001b[0m\u001b[0m\n\u001b[1;32m      6\u001b[0m     \u001b[0mprint\u001b[0m\u001b[0;34m(\u001b[0m\u001b[0;34m\"Trial {}\"\u001b[0m\u001b[0;34m.\u001b[0m\u001b[0mformat\u001b[0m\u001b[0;34m(\u001b[0m\u001b[0mj\u001b[0m\u001b[0;34m)\u001b[0m\u001b[0;34m)\u001b[0m\u001b[0;34m\u001b[0m\u001b[0;34m\u001b[0m\u001b[0m\n\u001b[0;32m----> 7\u001b[0;31m     \u001b[0muser_env\u001b[0m \u001b[0;34m=\u001b[0m \u001b[0mUserTaxiEnvironment\u001b[0m\u001b[0;34m(\u001b[0m\u001b[0muser_reward\u001b[0m\u001b[0;34m,\u001b[0m \u001b[0mrl_env\u001b[0m\u001b[0;34m,\u001b[0m \u001b[0mmultiplier\u001b[0m\u001b[0;34m=\u001b[0m \u001b[0;36m1.\u001b[0m\u001b[0;34m)\u001b[0m \u001b[0;31m# Define a user environment\u001b[0m\u001b[0;34m\u001b[0m\u001b[0;34m\u001b[0m\u001b[0m\n\u001b[0m\u001b[1;32m      8\u001b[0m     \u001b[0mlearned_user_agent\u001b[0m \u001b[0;34m=\u001b[0m \u001b[0mTaxiQLearner\u001b[0m\u001b[0;34m(\u001b[0m\u001b[0muser_env\u001b[0m\u001b[0;34m,\u001b[0m \u001b[0mepsilon\u001b[0m \u001b[0;34m=\u001b[0m \u001b[0;36m0.4\u001b[0m\u001b[0;34m)\u001b[0m\u001b[0;34m\u001b[0m\u001b[0;34m\u001b[0m\u001b[0m\n\u001b[1;32m      9\u001b[0m     \u001b[0m_\u001b[0m \u001b[0;34m=\u001b[0m \u001b[0mlearned_user_agent\u001b[0m\u001b[0;34m.\u001b[0m\u001b[0mtrain\u001b[0m\u001b[0;34m(\u001b[0m\u001b[0;36m1000\u001b[0m\u001b[0;34m)\u001b[0m\u001b[0;34m\u001b[0m\u001b[0;34m\u001b[0m\u001b[0m\n",
      "\u001b[0;31mNameError\u001b[0m: name 'user_reward' is not defined"
     ]
    }
   ],
   "source": [
    "num_trials = 1\n",
    "random_Q_results = np.zeros(num_trials)\n",
    "learned_Q_results = np.zeros(num_trials)\n",
    "\n",
    "for j in range(num_trials): \n",
    "    print(\"Trial {}\".format(j))\n",
    "    user_env = UserTaxiEnvironment(user_reward, rl_env, multiplier= 1.) # Define a user environment\n",
    "    learned_user_agent = TaxiQLearner(user_env, epsilon = 0.4)\n",
    "    _ = learned_user_agent.train(1000)\n",
    "    \n",
    "    # Random Q matrix\n",
    "    random_Q = np.zeros((500, 6))\n",
    "    random_actions = (np.random.choice(range(6), 500))\n",
    "    for i, action in enumerate(random_actions):\n",
    "        random_Q[i, action] = 1\n",
    "\n",
    "\n",
    "    learned_Q_results[j] = compare_Q_matrices(learned_user_agent.Q, user_agent.Q)\n",
    "    random_Q_results[j] = compare_Q_matrices(random_Q, user_agent.Q)"
   ]
  },
  {
   "cell_type": "code",
   "execution_count": null,
   "metadata": {},
   "outputs": [],
   "source": [
    "# Show the action-selection similarilty scores\n",
    "data = np.vstack((learned_Q_results, random_Q_results)).T\n",
    "results_df = pd.DataFrame(data = data, columns = ['Learned user Q', 'Random user Q'])\n",
    "sns.boxplot(data = results_df)\n",
    "plt.ylabel(\"No. actions matching true Q\")\n",
    "plt.savefig('random_learned_boxplots.png')"
   ]
  },
  {
   "cell_type": "code",
   "execution_count": 1,
   "metadata": {},
   "outputs": [
    {
     "ename": "NameError",
     "evalue": "name 'plt' is not defined",
     "output_type": "error",
     "traceback": [
      "\u001b[0;31m---------------------------------------------------------------------------\u001b[0m",
      "\u001b[0;31mNameError\u001b[0m                                 Traceback (most recent call last)",
      "\u001b[0;32m<ipython-input-1-589d5d88d9f1>\u001b[0m in \u001b[0;36m<module>\u001b[0;34m\u001b[0m\n\u001b[1;32m      1\u001b[0m \u001b[0;31m# Visualize the Q-matrices\u001b[0m\u001b[0;34m\u001b[0m\u001b[0;34m\u001b[0m\u001b[0;34m\u001b[0m\u001b[0m\n\u001b[0;32m----> 2\u001b[0;31m \u001b[0mfig\u001b[0m\u001b[0;34m,\u001b[0m \u001b[0max\u001b[0m \u001b[0;34m=\u001b[0m \u001b[0mplt\u001b[0m\u001b[0;34m.\u001b[0m\u001b[0msubplots\u001b[0m\u001b[0;34m(\u001b[0m\u001b[0;36m1\u001b[0m\u001b[0;34m,\u001b[0m \u001b[0;36m3\u001b[0m\u001b[0;34m,\u001b[0m \u001b[0mfigsize\u001b[0m\u001b[0;34m=\u001b[0m\u001b[0;34m(\u001b[0m\u001b[0;36m20\u001b[0m\u001b[0;34m,\u001b[0m \u001b[0;36m5\u001b[0m\u001b[0;34m)\u001b[0m\u001b[0;34m)\u001b[0m\u001b[0;34m\u001b[0m\u001b[0;34m\u001b[0m\u001b[0m\n\u001b[0m\u001b[1;32m      3\u001b[0m \u001b[0;34m\u001b[0m\u001b[0m\n\u001b[1;32m      4\u001b[0m \u001b[0msns\u001b[0m\u001b[0;34m.\u001b[0m\u001b[0mheatmap\u001b[0m\u001b[0;34m(\u001b[0m\u001b[0muser_agent\u001b[0m\u001b[0;34m.\u001b[0m\u001b[0mQ\u001b[0m\u001b[0;34m[\u001b[0m\u001b[0;34m:\u001b[0m\u001b[0;36m50\u001b[0m\u001b[0;34m,\u001b[0m \u001b[0;34m:\u001b[0m\u001b[0;34m]\u001b[0m\u001b[0;34m,\u001b[0m \u001b[0max\u001b[0m\u001b[0;34m=\u001b[0m\u001b[0max\u001b[0m\u001b[0;34m[\u001b[0m\u001b[0;36m0\u001b[0m\u001b[0;34m]\u001b[0m\u001b[0;34m)\u001b[0m\u001b[0;34m\u001b[0m\u001b[0;34m\u001b[0m\u001b[0m\n\u001b[1;32m      5\u001b[0m \u001b[0msns\u001b[0m\u001b[0;34m.\u001b[0m\u001b[0mheatmap\u001b[0m\u001b[0;34m(\u001b[0m\u001b[0mlearned_user_agent\u001b[0m\u001b[0;34m.\u001b[0m\u001b[0mQ\u001b[0m\u001b[0;34m[\u001b[0m\u001b[0;34m:\u001b[0m\u001b[0;36m50\u001b[0m\u001b[0;34m,\u001b[0m \u001b[0;34m:\u001b[0m\u001b[0;34m]\u001b[0m\u001b[0;34m,\u001b[0m \u001b[0max\u001b[0m\u001b[0;34m=\u001b[0m\u001b[0max\u001b[0m\u001b[0;34m[\u001b[0m\u001b[0;36m1\u001b[0m\u001b[0;34m]\u001b[0m\u001b[0;34m)\u001b[0m\u001b[0;34m\u001b[0m\u001b[0;34m\u001b[0m\u001b[0m\n",
      "\u001b[0;31mNameError\u001b[0m: name 'plt' is not defined"
     ]
    }
   ],
   "source": [
    "# Visualize the Q-matrices\n",
    "fig, ax = plt.subplots(1, 3, figsize=(20, 5))\n",
    "\n",
    "sns.heatmap(user_agent.Q[:50, :], ax=ax[0])\n",
    "sns.heatmap(learned_user_agent.Q[:50, :], ax=ax[1])\n",
    "sns.heatmap(random_Q[:50, :], ax=ax[2])\n",
    "\n",
    "ax[0].set_title(\"User's ground truth Q\")\n",
    "ax[1].set_title(\"IRL learned Q\")\n",
    "ax[2].set_title(\"Randomly generated Q\")\n",
    "plt.savefig('Learned_Q_matrices.png')"
   ]
  },
  {
   "cell_type": "code",
   "execution_count": 1,
   "metadata": {},
   "outputs": [
    {
     "ename": "NameError",
     "evalue": "name 'learned_user_agent' is not defined",
     "output_type": "error",
     "traceback": [
      "\u001b[0;31m---------------------------------------------------------------------------\u001b[0m",
      "\u001b[0;31mNameError\u001b[0m                                 Traceback (most recent call last)",
      "\u001b[0;32m<ipython-input-1-b22379a09f6a>\u001b[0m in \u001b[0;36m<module>\u001b[0;34m\u001b[0m\n\u001b[1;32m      1\u001b[0m \u001b[0;31m# learned user agent Q using the IRL user reward\u001b[0m\u001b[0;34m\u001b[0m\u001b[0;34m\u001b[0m\u001b[0;34m\u001b[0m\u001b[0m\n\u001b[0;32m----> 2\u001b[0;31m \u001b[0muser_Q\u001b[0m \u001b[0;34m=\u001b[0m \u001b[0mlearned_user_agent\u001b[0m\u001b[0;34m.\u001b[0m\u001b[0mQ\u001b[0m\u001b[0;34m.\u001b[0m\u001b[0mcopy\u001b[0m\u001b[0;34m(\u001b[0m\u001b[0;34m)\u001b[0m\u001b[0;34m\u001b[0m\u001b[0;34m\u001b[0m\u001b[0m\n\u001b[0m\u001b[1;32m      3\u001b[0m \u001b[0;34m\u001b[0m\u001b[0m\n\u001b[1;32m      4\u001b[0m \u001b[0;31m# evaluate the user_agent with user_Q in the original environment\u001b[0m\u001b[0;34m\u001b[0m\u001b[0;34m\u001b[0m\u001b[0;34m\u001b[0m\u001b[0m\n\u001b[1;32m      5\u001b[0m \u001b[0muser_agent\u001b[0m \u001b[0;34m=\u001b[0m \u001b[0mTaxiQLearner\u001b[0m\u001b[0;34m(\u001b[0m\u001b[0mrl_env\u001b[0m\u001b[0;34m,\u001b[0m \u001b[0mepsilon\u001b[0m \u001b[0;34m=\u001b[0m \u001b[0;36m0.3\u001b[0m\u001b[0;34m)\u001b[0m\u001b[0;34m\u001b[0m\u001b[0;34m\u001b[0m\u001b[0m\n",
      "\u001b[0;31mNameError\u001b[0m: name 'learned_user_agent' is not defined"
     ]
    }
   ],
   "source": [
    "# learned user agent Q using the IRL user reward\n",
    "user_Q = learned_user_agent.Q.copy()\n",
    "\n",
    "# evaluate the user_agent with user_Q in the original environment\n",
    "user_agent = TaxiQLearner(rl_env, epsilon = 0.3)\n",
    "user_agent.Q = user_Q\n",
    "\n",
    "# get the expected return for the user agent\n",
    "user_avg_steps = simulate_episodes(user_agent, 100)"
   ]
  },
  {
   "cell_type": "markdown",
   "metadata": {},
   "source": [
    "## 2. Improving the user's policy"
   ]
  },
  {
   "cell_type": "code",
   "execution_count": null,
   "metadata": {
    "scrolled": true
   },
   "outputs": [
    {
     "name": "stdout",
     "output_type": "stream",
     "text": [
      "Episode 0 latest length 61\n",
      "Evaluating Current New Policy\n",
      "Evaluation episode 0: 65 steps\n",
      "Evaluation episode 25: 144 steps\n",
      "Evaluation episode 50: 11110 steps\n",
      "Evaluation episode 75: 189 steps\n",
      "Current Return: 147.5\n",
      "Episode 0 latest length 95\n",
      "Evaluating Current New Policy\n",
      "Evaluation episode 0: 315 steps\n",
      "Evaluation episode 25: 349 steps\n",
      "Evaluation episode 50: 29 steps\n",
      "Evaluation episode 75: 162 steps\n",
      "Current Return: 131.0\n",
      "Episode 0 latest length 19\n",
      "Evaluating Current New Policy\n",
      "Evaluation episode 0: 295 steps\n",
      "Evaluation episode 25: 205 steps\n",
      "Evaluation episode 50: 18 steps\n",
      "Evaluation episode 75: 709 steps\n",
      "Current Return: 108.0\n",
      "Episode 0 latest length 82\n",
      "Evaluating Current New Policy\n",
      "Evaluation episode 0: 18 steps\n",
      "Evaluation episode 25: 17 steps\n",
      "Evaluation episode 50: 2789 steps\n",
      "Evaluation episode 75: 249 steps\n",
      "Current Return: 114.0\n",
      "Episode 0 latest length 19\n",
      "Evaluating Current New Policy\n",
      "Evaluation episode 0: 14 steps\n",
      "Evaluation episode 25: 64 steps\n",
      "Evaluation episode 50: 80 steps\n",
      "Evaluation episode 75: 3189 steps\n",
      "Current Return: 95.5\n",
      "Episode 0 latest length 24\n",
      "Evaluating Current New Policy\n",
      "Evaluation episode 0: 17 steps\n",
      "Evaluation episode 25: 57 steps\n",
      "Evaluation episode 50: 144 steps\n",
      "Evaluation episode 75: 205 steps\n",
      "Current Return: 124.5\n",
      "Episode 0 latest length 104\n",
      "Evaluating Current New Policy\n",
      "Evaluation episode 0: 241 steps\n",
      "Evaluation episode 25: 122 steps\n"
     ]
    }
   ],
   "source": [
    "user_agent_Q = user_agent.Q.copy()\n",
    "\n",
    "norms = []\n",
    "reward_threshs = range(50, 150, 10)\n",
    "for reward in reward_threshs:\n",
    "    improved_agent = TaxiQLearner(rl_env)\n",
    "    improved_agent.Q = user_agent_Q.copy()\n",
    "    improved_agent.epsilon = 0.3\n",
    "    \n",
    "    # Train and evaluate\n",
    "    current_return = reward + 1\n",
    "    i = 0 \n",
    "    while current_return > reward and i < 100: \n",
    "        train_data, train_rewards, train_lengths = user_agent.train(1, user_Q = user_agent_Q, sparse_penalty = 0.5) \n",
    "        if i % 5 == 0: \n",
    "            print(\"Evaluating Current New Policy\")\n",
    "            total_steps, _, _ = user_agent.evaluate(100)\n",
    "            current_return = np.median(total_steps)\n",
    "            print(\"Current Return: {}\".format(current_return))\n",
    "    print(\"DONE!\\n\")\n",
    "    #user_agent_Q = user_agent.Q.copy()\n",
    "    #new_user, new_user_return = sparse_Q_learning(rl_env, user_agent_Q, max_iters=100, goal_reward=reward, penalty=0.5, epsilon = 0.4, alpha = 0.75)\n",
    "    current_norm = np.linalg.norm(user_agent_Q - improved_agent.Q, ord = 1)\n",
    "    norms.append(current_norm)"
   ]
  },
  {
   "cell_type": "markdown",
   "metadata": {},
   "source": [
    "### Testing User Preference"
   ]
  },
  {
   "cell_type": "code",
   "execution_count": null,
   "metadata": {},
   "outputs": [],
   "source": [
    "# 6 actions: south, north, east, west, pickup passenger, dropoff passenger\n",
    "# we assume that taxi user does not like taking left turns \n",
    "# so we downweight action 3\n",
    "avoid_left_turns = lambda s, a: -10 if (a == 3) else -5\n",
    "\n",
    "new_user, new_user_return, user_return = actionable_sparse_Q_learning(user_agent_Q, max_iters=20, min_diff=20, percentage_diff=0.15, penalty=avoid_left_turns)"
   ]
  },
  {
   "cell_type": "markdown",
   "metadata": {},
   "source": [
    "## 3. Evaluation"
   ]
  },
  {
   "cell_type": "markdown",
   "metadata": {},
   "source": [
    "### Results for the Greedy Baseline"
   ]
  },
  {
   "cell_type": "code",
   "execution_count": null,
   "metadata": {},
   "outputs": [],
   "source": [
    "# learn the optimal Q value using the true reward\n",
    "optimal_user_agent = TaxiQLearner(rl_env, epsilon = 0.3)\n",
    "_ = optimal_user_agent.train(500)\n",
    "optimal_Q = optimal_user_agent.Q.copy()\n",
    "# get the expected return for the optimal user agent\n",
    "optimal_user_avg_steps = simulate_episodes(optimal_user_agent, num_episodes_evaluation)"
   ]
  },
  {
   "cell_type": "code",
   "execution_count": null,
   "metadata": {},
   "outputs": [],
   "source": [
    "# calculate the absolute difference between the optimal Q \n",
    "Q_diff = abs(optimal_Q - user_Q)\n",
    "# sum of abs diff per state\n",
    "Q_diff_state = Q_diff.sum(axis = 1)\n",
    "print('number of the absolute differences that are 0 out of 500 differences: {}'.format(\n",
    "    (Q_diff_state ==0).sum()))\n",
    "print('number of distinct non-zero abs differences: {}'.format(\n",
    "    len(set(Q_diff_state[Q_diff_state != 0]))))\n",
    "\n",
    "# if there is no duplicate values, then we can use the abs difference as the key of the dict\n",
    "# a dictionary of tuple: key = abs difference, value = row (state)\n",
    "abs_diff_dict = dict()\n",
    "for state, abs_diff in enumerate(Q_diff_state):\n",
    "    if abs_diff != 0:\n",
    "        abs_diff_dict[abs_diff] = state\n",
    "\n",
    "# sort the absolute difference in the ascending order\n",
    "sorted_abs_diff = sorted(abs_diff_dict.keys(), reverse = False)"
   ]
  },
  {
   "cell_type": "code",
   "execution_count": null,
   "metadata": {},
   "outputs": [],
   "source": [
    "min_diff = user_avg_steps # how much we want to improve the average user steps\n",
    "\n",
    "i = 0\n",
    "current_abs_diff = sorted_abs_diff[0] # ith smallest abs diff\n",
    "# get the [s,{a}] to be changed\n",
    "state_changed = abs_diff_dict[current_abs_diff]\n",
    "# change Q user [s,a] to optimal Q[s,a]\n",
    "current_Q = user_Q.copy()\n",
    "current_Q[state_changed, :] = optimal_Q[state_changed, :]\n",
    "\n",
    "# evaluate the current Q on the original RL environment\n",
    "current_user_agent = TaxiQLearner(rl_env, epsilon = 0.4)\n",
    "current_user_agent.Q = current_Q\n",
    "current_user_avg_steps = simulate_episodes(current_user_agent, 100)\n",
    "\n",
    "# keep track of current user avg_steps\n",
    "list_avg_step_history = [user_avg_steps, current_user_avg_steps]\n",
    "list_Q_diff = [0, current_abs_diff]\n",
    "\n",
    "# stop if current return <= user_avg_steps - some constant\n",
    "while ((current_user_avg_steps > user_avg_steps - min_diff) and i < len(abs_diff_dict) - 1):\n",
    "    i += 1\n",
    "    # keep updating current user Q\n",
    "    current_abs_diff = sorted_abs_diff[i] # ith smallest abs diff\n",
    "    # get the [s,a] to be changed\n",
    "    state_changed = abs_diff_dict[current_abs_diff]\n",
    "    # change Q user [s,a] to optimal Q[s,a]\n",
    "    current_Q[state_changed, :] = optimal_Q[state_changed, :]\n",
    "    \n",
    "    # evaluate the current Q on the original RL environment\n",
    "    current_user_agent = TaxiQLearner(rl_env, epsilon = 0.4)\n",
    "    current_user_agent.Q = current_Q\n",
    "    current_user_avg_steps = simulate_episodes(current_user_agent, 100)\n",
    "    print('iteration: {}, avg steps: {}'.format(i, current_user_avg_steps))\n",
    "    \n",
    "    list_avg_step_history.append(current_user_avg_steps)\n",
    "    list_Q_diff.append(list_Q_diff[-1] + current_abs_diff)\n"
   ]
  },
  {
   "cell_type": "markdown",
   "metadata": {},
   "source": [
    "### Results for Our Method"
   ]
  },
  {
   "cell_type": "markdown",
   "metadata": {},
   "source": [
    "### Comparison of Greedy vs. Our method"
   ]
  },
  {
   "cell_type": "code",
   "execution_count": 12,
   "metadata": {},
   "outputs": [],
   "source": [
    "import pickle\n",
    "baseline_res = pickle.load(open(\"baseline.pickle\", \"rb\"))\n",
    "our_res = pickle.load(open(\"method.pickle\", \"rb\"))\n",
    "\n",
    "baseline_norms = np.array(baseline_res[\"list_Q_diff\"])\n",
    "baseline_lengths = np.array(baseline_res[\"list_avg_step_history\"])\n",
    "our_norms = np.array(our_res[\"norms\"])\n",
    "our_lengths = np.array(our_res[\"reward_threshs\"])"
   ]
  },
  {
   "cell_type": "code",
   "execution_count": 11,
   "metadata": {},
   "outputs": [
    {
     "data": {
      "text/plain": [
       "{'list_Q_diff': [37.45620314585692,\n",
       "  25.541273402072488,\n",
       "  1.7343786219090906,\n",
       "  0.4959814006382462,\n",
       "  0.4959814006382462,\n",
       "  0.4959814006382462,\n",
       "  0.4959814006382462,\n",
       "  0.4959814006382462,\n",
       "  0.4959814006382462,\n",
       "  0.4959814006382462],\n",
       " 'list_avg_step_history': [47.5,\n",
       "  58.5,\n",
       "  70.0,\n",
       "  72.5,\n",
       "  73.0,\n",
       "  80.5,\n",
       "  104.5,\n",
       "  71.0,\n",
       "  92.0,\n",
       "  102.0]}"
      ]
     },
     "execution_count": 11,
     "metadata": {},
     "output_type": "execute_result"
    }
   ],
   "source": [
    "baseline_res"
   ]
  },
  {
   "cell_type": "code",
   "execution_count": 13,
   "metadata": {},
   "outputs": [
    {
     "data": {
      "image/png": "[encoded data removed]",
      "text/plain": [
       "<Figure size 720x432 with 1 Axes>"
      ]
     },
     "metadata": {
      "needs_background": "light"
     },
     "output_type": "display_data"
    }
   ],
   "source": [
    "fig, ax = plt.subplots(1, 1, figsize=(10, 6))\n",
    "baseline_ind = list(range(0, len(baseline_res[\"list_avg_step_history\"]), 50))\n",
    "\n",
    "ax.scatter(baseline_lengths, baseline_norms, color = \"red\", alpha = 0.5, label=\"Greedy Baseline\")\n",
    "ax.scatter(our_lengths, our_norms, color=\"blue\", alpha = 0.5, label=\"Our Method\")\n",
    "\n",
    "#ax.set_title('Steps taken to success versus Sparsity of counterfactual', fontsize = 14)\n",
    "plt.xlabel('Episode Length')\n",
    "plt.ylabel('Difference in Q matrices (norm)')\n",
    "\n",
    "# fit a regression line\n",
    "m_baseline, b_baseline = np.polyfit(baseline_lengths, baseline_norms, 1)\n",
    "m_ours, b_ours = np.polyfit(our_lengths, our_norms, 1)\n",
    "\n",
    "plt.plot(baseline_lengths, m_baseline*baseline_lengths + b_baseline, color = 'red', label = 'slope = {}'.format(np.round(m_baseline, 2)))\n",
    "plt.plot(our_lengths, m_ours*our_lengths + b_ours, color = 'blue', label = 'slope = {}'.format(np.round(m_ours, 2)))\n",
    "#plt.ylim((-100, 2600))\n",
    "plt.legend()\n",
    "plt.show()"
   ]
  },
  {
   "cell_type": "code",
   "execution_count": 61,
   "metadata": {},
   "outputs": [
    {
     "data": {
      "text/plain": [
       "array([51.15878533, 51.15878533, 51.15878533, 51.15878533,  7.67013817,\n",
       "        0.28463933,  0.05212735,  0.05212735,  0.        ,  0.        ])"
      ]
     },
     "execution_count": 61,
     "metadata": {},
     "output_type": "execute_result"
    }
   ],
   "source": [
    "our_norms"
   ]
  },
  {
   "cell_type": "code",
   "execution_count": 36,
   "metadata": {},
   "outputs": [
    {
     "data": {
      "text/plain": [
       "array([-0.76385414, 88.25428243])"
      ]
     },
     "execution_count": 36,
     "metadata": {},
     "output_type": "execute_result"
    }
   ],
   "source": [
    "np.polyfit(baseline_res[\"list_avg_step_history\"],  baseline_res[\"list_Q_diff\"], 1)"
   ]
  }
 ],
 "metadata": {
  "kernelspec": {
   "display_name": "Python 3",
   "language": "python",
   "name": "python3"
  },
  "language_info": {
   "codemirror_mode": {
    "name": "ipython",
    "version": 3
   },
   "file_extension": ".py",
   "mimetype": "text/x-python",
   "name": "python",
   "nbconvert_exporter": "python",
   "pygments_lexer": "ipython3",
   "version": "3.8.5"
  }
 },
 "nbformat": 4,
 "nbformat_minor": 4
}
